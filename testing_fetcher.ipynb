{
 "cells": [
  {
   "cell_type": "code",
   "execution_count": 2,
   "metadata": {},
   "outputs": [],
   "source": [
    "import requests  \n",
    "import pandas as pd  \n",
    "from bs4 import BeautifulSoup  \n"
   ]
  },
  {
   "cell_type": "code",
   "execution_count": 3,
   "metadata": {},
   "outputs": [],
   "source": [
    "html_crossword_page = requests.get('https://xwstats.com/puzzles/2025-02-04')\n",
    "soup = BeautifulSoup(html_crossword_page.content, 'html.parser')\n"
   ]
  },
  {
   "cell_type": "code",
   "execution_count": 4,
   "metadata": {},
   "outputs": [],
   "source": [
    "small_text_facts =soup.find(\"ul\", class_=\"achievements\")\n",
    "small_text_facts=small_text_facts.get_text()\n",
    "small_text_facts=small_text_facts.split(\"\\n\")\n",
    "small_text_facts=[x for x in small_text_facts if x]\n",
    "faster=small_text_facts[0]\n",
    "faster_number=faster.split(\" \")[0]\n",
    "faster_number = float(''.join(filter(str.isdigit, faster_number)))\n",
    "much_faster=small_text_facts[1].strip()\n",
    "much_faster_number=much_faster.split(\" \")[0]\n",
    "much_faster_number = float(''.join(filter(str.isdigit, much_faster_number)))\n",
    "slower=small_text_facts[2]\n",
    "slower_number=slower.split(\" \")[0]\n",
    "slower_number = float(''.join(filter(str.isdigit, slower_number)))\n",
    "much_slower=small_text_facts[3].strip()\n",
    "much_slower_number=much_slower.split(\" \")[0]\n",
    "much_slower_number = float(''.join(filter(str.isdigit, much_slower_number)))"
   ]
  },
  {
   "cell_type": "code",
   "execution_count": 5,
   "metadata": {},
   "outputs": [],
   "source": [
    "main_values=soup.find_all(\"div\",class_=\"stat-value\")\n",
    "difficulty=main_values[0].get_text()\n",
    "average_time=main_values[1].get_text()\n",
    "average_increase=main_values[2].get_text()"
   ]
  },
  {
   "cell_type": "code",
   "execution_count": null,
   "metadata": {},
   "outputs": [],
   "source": [
    "title=soup.find(\"h1\").get_text()\n",
    "date=title.split(\"-\")[1].strip()\n",
    "title=title.split(\"-\")[0].strip()"
   ]
  },
  {
   "cell_type": "code",
   "execution_count": 10,
   "metadata": {},
   "outputs": [],
   "source": [
    "main_page = requests.get('https://xwstats.com/puzzles')\n",
    "soup = BeautifulSoup(main_page.content, 'html.parser')\n"
   ]
  },
  {
   "cell_type": "code",
   "execution_count": null,
   "metadata": {},
   "outputs": [],
   "source": [
    "links=soup.find_all(\"a\",class_=\"puzzle\")\n",
    "dates=[]\n",
    "links=[]\n",
    "for link in soup.find_all(\"a\",class_=\"puzzle\"):\n",
    "    date_time=link.get_text()\n",
    "    date=date_time.split(\"-\")[1].strip()\n",
    "    dates.append(date)\n",
    "    links.append(link.get(\"href\"))"
   ]
  },
  {
   "cell_type": "code",
   "execution_count": 22,
   "metadata": {},
   "outputs": [],
   "source": [
    "link=\"https://xwstats.com\"+links[0]\n",
    "html_crossword_page = requests.get(link)\n",
    "soup = BeautifulSoup(html_crossword_page.content, 'html.parser')\n"
   ]
  }
 ],
 "metadata": {
  "kernelspec": {
   "display_name": "crosswords",
   "language": "python",
   "name": "python3"
  },
  "language_info": {
   "codemirror_mode": {
    "name": "ipython",
    "version": 3
   },
   "file_extension": ".py",
   "mimetype": "text/x-python",
   "name": "python",
   "nbconvert_exporter": "python",
   "pygments_lexer": "ipython3",
   "version": "3.12.3"
  }
 },
 "nbformat": 4,
 "nbformat_minor": 2
}
