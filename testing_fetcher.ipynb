{
 "cells": [
  {
   "cell_type": "code",
   "execution_count": 1,
   "metadata": {},
   "outputs": [],
   "source": [
    "import requests  \n",
    "import pandas as pd  \n",
    "from bs4 import BeautifulSoup  \n"
   ]
  },
  {
   "cell_type": "code",
   "execution_count": 2,
   "metadata": {},
   "outputs": [],
   "source": [
    "html_crossword_page = requests.get('https://xwstats.com/puzzles/2025-02-04')\n",
    "soup = BeautifulSoup(html_crossword_page.content, 'html.parser')\n"
   ]
  },
  {
   "cell_type": "code",
   "execution_count": 3,
   "metadata": {},
   "outputs": [],
   "source": [
    "small_text_facts =soup.find(\"ul\", class_=\"achievements\")\n",
    "small_text_facts=small_text_facts.get_text()\n",
    "small_text_facts=small_text_facts.split(\"\\n\")\n",
    "small_text_facts=[x for x in small_text_facts if x]\n",
    "faster=small_text_facts[0]\n",
    "faster_number=faster.split(\" \")[0]\n",
    "much_faster=small_text_facts[1]\n",
    "slower=small_text_facts[2]\n",
    "much_slower=small_text_facts[3]"
   ]
  },
  {
   "cell_type": "code",
   "execution_count": null,
   "metadata": {},
   "outputs": [],
   "source": []
  }
 ],
 "metadata": {
  "kernelspec": {
   "display_name": "crosswords",
   "language": "python",
   "name": "python3"
  },
  "language_info": {
   "codemirror_mode": {
    "name": "ipython",
    "version": 3
   },
   "file_extension": ".py",
   "mimetype": "text/x-python",
   "name": "python",
   "nbconvert_exporter": "python",
   "pygments_lexer": "ipython3",
   "version": "3.12.3"
  }
 },
 "nbformat": 4,
 "nbformat_minor": 2
}
